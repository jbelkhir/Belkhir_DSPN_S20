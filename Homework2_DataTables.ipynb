setwd("~/Desktop/Grad_School/Spring_2019/Classes/Data Science/Personal Repository/Homeworks/hcp_data")
d<-read.csv("unrestricted_trimmed_1_7_2020_10_50_44.csv")



d %>%
  filter(Age == '22-25' ) %>%
  select( Gender, FS_Total_GM_Vol, FS_Tot_WM_Vol)  %>%
  na.omit() -> d1
print(d1)


d1 %>%
  gather("BrainMeasures", "Volume", 2:3) -> dlong



dlong  %>% 
  group_by(Gender)  %>% 
  summarise(mean_volume = mean(Volume),
            volume_sd = sd(Volume),
            num_observation =length(Volume)) -> dsum
print(dsum)
